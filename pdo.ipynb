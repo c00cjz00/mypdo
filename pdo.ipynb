{
 "cells": [
  {
   "cell_type": "code",
   "execution_count": 8,
   "id": "efd6fb86-3266-467a-a18d-aadc986caeb7",
   "metadata": {},
   "outputs": [],
   "source": [
    "# 建立表單\n",
    "!php pdo_CreateTable.php"
   ]
  },
  {
   "cell_type": "code",
   "execution_count": 12,
   "id": "df2af4d9-0886-4b91-99c0-a8d88d65e4e2",
   "metadata": {},
   "outputs": [],
   "source": [
    "# 輸入資料\n",
    "!php pdo_InsertData.php"
   ]
  },
  {
   "cell_type": "code",
   "execution_count": 19,
   "id": "041883f1-d64b-4dc1-ba61-2e5346ff5b9d",
   "metadata": {},
   "outputs": [],
   "source": [
    "# 更新資料\n",
    "!php pdo_UpdateData.php"
   ]
  },
  {
   "cell_type": "code",
   "execution_count": 20,
   "id": "215b3392-a8eb-4829-9567-96697e127048",
   "metadata": {},
   "outputs": [],
   "source": [
    "# 刪除資料\n",
    "!php pdo_DeleteData.php"
   ]
  },
  {
   "cell_type": "code",
   "execution_count": 21,
   "id": "0a28f5d3-7bfa-4387-8da6-76677271ab55",
   "metadata": {},
   "outputs": [
    {
     "name": "stdout",
     "output_type": "stream",
     "text": [
      "Array\n",
      "(\n",
      "    [id] => 2\n",
      "    [0] => 2\n",
      "    [name] => 藪貓\n",
      "    [1] => 藪貓\n",
      "    [weight] => 52\n",
      "    [2] => 52\n",
      "    [info] => 夜行性動物，喜歡狩獵遊戲，口頭禪是好厲害唷\n",
      "    [3] => 夜行性動物，喜歡狩獵遊戲，口頭禪是好厲害唷\n",
      "    [date] => 2021-12-16 11:15:50\n",
      "    [4] => 2021-12-16 11:15:50\n",
      ")\n",
      "--------------------\n",
      "Array\n",
      "(\n",
      "    [id] => 3\n",
      "    [0] => 3\n",
      "    [name] => 河馬\n",
      "    [1] => 河馬\n",
      "    [weight] => 155\n",
      "    [2] => 155\n",
      "    [info] => 個性不算溫和，咬合力很強唷\n",
      "    [3] => 個性不算溫和，咬合力很強唷\n",
      "    [date] => 2021-12-16 11:15:50\n",
      "    [4] => 2021-12-16 11:15:50\n",
      ")\n",
      "--------------------\n",
      "Array\n",
      "(\n",
      "    [id] => 4\n",
      "    [0] => 4\n",
      "    [name] => 浣熊\n",
      "    [1] => 浣熊\n",
      "    [weight] => 123\n",
      "    [2] => 123\n",
      "    [info] => 由於會偷人類人物，所以常常被說是個小偷\n",
      "    [3] => 由於會偷人類人物，所以常常被說是個小偷\n",
      "    [date] => 2021-12-16 11:15:50\n",
      "    [4] => 2021-12-16 11:15:50\n",
      ")\n",
      "--------------------\n",
      "Array\n",
      "(\n",
      "    [id] => 5\n",
      "    [0] => 5\n",
      "    [name] => 耳廓狐\n",
      "    [1] => 耳廓狐\n",
      "    [weight] => 33\n",
      "    [2] => 33\n",
      "    [info] => 擅長透過挖洞來尋找潛藏在地底下的獵物\n",
      "    [3] => 擅長透過挖洞來尋找潛藏在地底下的獵物\n",
      "    [date] => 2021-12-16 11:15:50\n",
      "    [4] => 2021-12-16 11:15:50\n",
      ")\n",
      "--------------------\n"
     ]
    }
   ],
   "source": [
    "# 選取資料一\n",
    "!php pdo_SelectData01.php"
   ]
  },
  {
   "cell_type": "code",
   "execution_count": 22,
   "id": "cddb8f0e-e3a6-4604-b3c7-49c8a1b7f552",
   "metadata": {},
   "outputs": [
    {
     "name": "stdout",
     "output_type": "stream",
     "text": [
      "Array\n",
      "(\n",
      "    [0] => Array\n",
      "        (\n",
      "            [id] => 2\n",
      "            [0] => 2\n",
      "            [name] => 藪貓\n",
      "            [1] => 藪貓\n",
      "            [weight] => 52\n",
      "            [2] => 52\n",
      "            [info] => 夜行性動物，喜歡狩獵遊戲，口頭禪是好厲害唷\n",
      "            [3] => 夜行性動物，喜歡狩獵遊戲，口頭禪是好厲害唷\n",
      "            [date] => 2021-12-16 11:15:50\n",
      "            [4] => 2021-12-16 11:15:50\n",
      "        )\n",
      "\n",
      "    [1] => Array\n",
      "        (\n",
      "            [id] => 3\n",
      "            [0] => 3\n",
      "            [name] => 河馬\n",
      "            [1] => 河馬\n",
      "            [weight] => 155\n",
      "            [2] => 155\n",
      "            [info] => 個性不算溫和，咬合力很強唷\n",
      "            [3] => 個性不算溫和，咬合力很強唷\n",
      "            [date] => 2021-12-16 11:15:50\n",
      "            [4] => 2021-12-16 11:15:50\n",
      "        )\n",
      "\n",
      "    [2] => Array\n",
      "        (\n",
      "            [id] => 4\n",
      "            [0] => 4\n",
      "            [name] => 浣熊\n",
      "            [1] => 浣熊\n",
      "            [weight] => 123\n",
      "            [2] => 123\n",
      "            [info] => 由於會偷人類人物，所以常常被說是個小偷\n",
      "            [3] => 由於會偷人類人物，所以常常被說是個小偷\n",
      "            [date] => 2021-12-16 11:15:50\n",
      "            [4] => 2021-12-16 11:15:50\n",
      "        )\n",
      "\n",
      "    [3] => Array\n",
      "        (\n",
      "            [id] => 5\n",
      "            [0] => 5\n",
      "            [name] => 耳廓狐\n",
      "            [1] => 耳廓狐\n",
      "            [weight] => 33\n",
      "            [2] => 33\n",
      "            [info] => 擅長透過挖洞來尋找潛藏在地底下的獵物\n",
      "            [3] => 擅長透過挖洞來尋找潛藏在地底下的獵物\n",
      "            [date] => 2021-12-16 11:15:50\n",
      "            [4] => 2021-12-16 11:15:50\n",
      "        )\n",
      "\n",
      ")\n"
     ]
    }
   ],
   "source": [
    "# 選取資料二\n",
    "!php pdo_SelectData02.php"
   ]
  },
  {
   "cell_type": "code",
   "execution_count": null,
   "id": "b6ce0c1e-5ab6-409a-a864-3e0d8d9a0446",
   "metadata": {},
   "outputs": [],
   "source": []
  }
 ],
 "metadata": {
  "kernelspec": {
   "display_name": "Python 3 (ipykernel)",
   "language": "python",
   "name": "python3"
  },
  "language_info": {
   "codemirror_mode": {
    "name": "ipython",
    "version": 3
   },
   "file_extension": ".py",
   "mimetype": "text/x-python",
   "name": "python",
   "nbconvert_exporter": "python",
   "pygments_lexer": "ipython3",
   "version": "3.8.12"
  }
 },
 "nbformat": 4,
 "nbformat_minor": 5
}
